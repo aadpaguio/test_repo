{
 "cells": [
  {
   "cell_type": "markdown",
   "id": "133218b9-fda1-46f8-ae56-cd1f9ca4101f",
   "metadata": {},
   "source": [
    "## Ari"
   ]
  },
  {
   "cell_type": "code",
   "execution_count": null,
   "id": "19a3c7ac-599b-4fa2-ab77-1d1b193f1df1",
   "metadata": {},
   "outputs": [],
   "source": [
    "# yeet slay\n",
    "# It's giving code"
   ]
  },
  {
   "cell_type": "code",
   "execution_count": null,
   "id": "0d0b7d61-9c1b-4e3a-afe4-ca2d4e930f55",
   "metadata": {},
   "outputs": [],
   "source": []
  },
  {
   "cell_type": "markdown",
   "id": "044a3e65-327c-4225-97ca-4f024eb18712",
   "metadata": {},
   "source": [
    "## Arnald"
   ]
  },
  {
   "cell_type": "code",
   "execution_count": null,
   "id": "d252aebd-6604-4a50-9e67-052c9e002582",
   "metadata": {},
   "outputs": [],
   "source": [
    "#test code here"
   ]
  },
  {
   "cell_type": "code",
   "execution_count": null,
   "id": "3829c5b2-5fd2-4bfe-933c-8f46d6b80456",
   "metadata": {},
   "outputs": [],
   "source": []
  }
 ],
 "metadata": {
  "kernelspec": {
   "display_name": "",
   "name": ""
  },
  "language_info": {
   "name": ""
  }
 },
 "nbformat": 4,
 "nbformat_minor": 5
}
